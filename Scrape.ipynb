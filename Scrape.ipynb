{
 "nbformat": 4,
 "nbformat_minor": 0,
 "metadata": {
  "colab": {
   "provenance": []
  },
  "kernelspec": {
   "name": "python3",
   "display_name": "Python 3 (ipykernel)",
   "language": "python"
  },
  "language_info": {
   "name": "python"
  }
 },
 "cells": [
  {
   "cell_type": "code",
   "metadata": {
    "colab": {
     "base_uri": "https://localhost:8080/"
    },
    "id": "TIyXxs7vfERs",
    "outputId": "c418cf09-b489-4591-fea2-7dbedde9c619",
    "ExecuteTime": {
     "end_time": "2025-05-25T23:59:03.457836Z",
     "start_time": "2025-05-25T23:58:46.883841Z"
    }
   },
   "source": [
    "pip install git+https://github.com/vladkens/twscrape.git"
   ],
   "outputs": [
    {
     "name": "stdout",
     "output_type": "stream",
     "text": [
      "Collecting git+https://github.com/vladkens/twscrape.git\n",
      "  Cloning https://github.com/vladkens/twscrape.git to c:\\users\\legion\\appdata\\local\\temp\\pip-req-build-yt68qrw8\n",
      "  Resolved https://github.com/vladkens/twscrape.git to commit 341c2f4701d552b491e6820d6ddec8a21139a98c\n",
      "  Installing build dependencies: started\n",
      "  Installing build dependencies: finished with status 'done'\n",
      "  Getting requirements to build wheel: started\n",
      "  Getting requirements to build wheel: finished with status 'done'\n",
      "  Preparing metadata (pyproject.toml): started\n",
      "  Preparing metadata (pyproject.toml): finished with status 'done'\n",
      "Collecting aiosqlite>=0.17.0 (from twscrape==0.17.0)\n",
      "  Using cached aiosqlite-0.21.0-py3-none-any.whl.metadata (4.3 kB)\n",
      "Collecting beautifulsoup4>=4.13.0 (from twscrape==0.17.0)\n",
      "  Downloading beautifulsoup4-4.13.4-py3-none-any.whl.metadata (3.8 kB)\n",
      "Collecting fake-useragent>=1.4.0 (from twscrape==0.17.0)\n",
      "  Downloading fake_useragent-2.2.0-py3-none-any.whl.metadata (17 kB)\n",
      "Requirement already satisfied: httpx>=0.26.0 in c:\\users\\legion\\appdata\\roaming\\python\\python312\\site-packages (from twscrape==0.17.0) (0.27.2)\n",
      "Collecting loguru>=0.7.0 (from twscrape==0.17.0)\n",
      "  Downloading loguru-0.7.3-py3-none-any.whl.metadata (22 kB)\n",
      "Collecting pyotp>=2.9.0 (from twscrape==0.17.0)\n",
      "  Downloading pyotp-2.9.0-py3-none-any.whl.metadata (9.8 kB)\n",
      "Requirement already satisfied: typing_extensions>=4.0 in c:\\users\\legion\\appdata\\roaming\\python\\python312\\site-packages (from aiosqlite>=0.17.0->twscrape==0.17.0) (4.12.2)\n",
      "Requirement already satisfied: soupsieve>1.2 in c:\\users\\legion\\anaconda3\\lib\\site-packages (from beautifulsoup4>=4.13.0->twscrape==0.17.0) (2.5)\n",
      "Requirement already satisfied: anyio in c:\\users\\legion\\appdata\\roaming\\python\\python312\\site-packages (from httpx>=0.26.0->twscrape==0.17.0) (4.6.2.post1)\n",
      "Requirement already satisfied: certifi in c:\\users\\legion\\appdata\\roaming\\python\\python312\\site-packages (from httpx>=0.26.0->twscrape==0.17.0) (2024.8.30)\n",
      "Requirement already satisfied: httpcore==1.* in c:\\users\\legion\\appdata\\roaming\\python\\python312\\site-packages (from httpx>=0.26.0->twscrape==0.17.0) (1.0.7)\n",
      "Requirement already satisfied: idna in c:\\users\\legion\\appdata\\roaming\\python\\python312\\site-packages (from httpx>=0.26.0->twscrape==0.17.0) (3.10)\n",
      "Requirement already satisfied: sniffio in c:\\users\\legion\\appdata\\roaming\\python\\python312\\site-packages (from httpx>=0.26.0->twscrape==0.17.0) (1.3.1)\n",
      "Requirement already satisfied: h11<0.15,>=0.13 in c:\\users\\legion\\appdata\\roaming\\python\\python312\\site-packages (from httpcore==1.*->httpx>=0.26.0->twscrape==0.17.0) (0.14.0)\n",
      "Requirement already satisfied: colorama>=0.3.4 in c:\\users\\legion\\appdata\\roaming\\python\\python312\\site-packages (from loguru>=0.7.0->twscrape==0.17.0) (0.4.6)\n",
      "Collecting win32-setctime>=1.0.0 (from loguru>=0.7.0->twscrape==0.17.0)\n",
      "  Downloading win32_setctime-1.2.0-py3-none-any.whl.metadata (2.4 kB)\n",
      "Using cached aiosqlite-0.21.0-py3-none-any.whl (15 kB)\n",
      "Downloading beautifulsoup4-4.13.4-py3-none-any.whl (187 kB)\n",
      "Downloading fake_useragent-2.2.0-py3-none-any.whl (161 kB)\n",
      "Downloading loguru-0.7.3-py3-none-any.whl (61 kB)\n",
      "Downloading pyotp-2.9.0-py3-none-any.whl (13 kB)\n",
      "Downloading win32_setctime-1.2.0-py3-none-any.whl (4.1 kB)\n",
      "Building wheels for collected packages: twscrape\n",
      "  Building wheel for twscrape (pyproject.toml): started\n",
      "  Building wheel for twscrape (pyproject.toml): finished with status 'done'\n",
      "  Created wheel for twscrape: filename=twscrape-0.17.0-py3-none-any.whl size=39240 sha256=101bb7428f6fadbee2cc44fda27a435516fb39cbea488b144e267b1479e95344\n",
      "  Stored in directory: C:\\Users\\legion\\AppData\\Local\\Temp\\pip-ephem-wheel-cache-m9ybkcbb\\wheels\\b3\\a7\\96\\3f4899979cea8a1d255ce2fb2dc396699a67cc3868a638c047\n",
      "Successfully built twscrape\n",
      "Installing collected packages: win32-setctime, pyotp, fake-useragent, beautifulsoup4, aiosqlite, loguru, twscrape\n",
      "  Attempting uninstall: beautifulsoup4\n",
      "    Found existing installation: beautifulsoup4 4.12.3\n",
      "    Uninstalling beautifulsoup4-4.12.3:\n",
      "      Successfully uninstalled beautifulsoup4-4.12.3\n",
      "Successfully installed aiosqlite-0.21.0 beautifulsoup4-4.13.4 fake-useragent-2.2.0 loguru-0.7.3 pyotp-2.9.0 twscrape-0.17.0 win32-setctime-1.2.0\n",
      "Note: you may need to restart the kernel to use updated packages.\n"
     ]
    },
    {
     "name": "stderr",
     "output_type": "stream",
     "text": [
      "  Running command git clone --filter=blob:none --quiet https://github.com/vladkens/twscrape.git 'C:\\Users\\legion\\AppData\\Local\\Temp\\pip-req-build-yt68qrw8'\n",
      "\n",
      "[notice] A new release of pip is available: 24.3.1 -> 25.1.1\n",
      "[notice] To update, run: python.exe -m pip install --upgrade pip\n"
     ]
    }
   ],
   "execution_count": 1
  },
  {
   "cell_type": "code",
   "source": [
    "!pip install playwright"
   ],
   "metadata": {
    "colab": {
     "base_uri": "https://localhost:8080/"
    },
    "id": "92fqrZc4hV4e",
    "outputId": "2e353129-31c3-4afe-af41-db4a2f166ea3",
    "ExecuteTime": {
     "end_time": "2025-05-25T23:59:12.947358Z",
     "start_time": "2025-05-25T23:59:03.508402Z"
    }
   },
   "outputs": [
    {
     "name": "stdout",
     "output_type": "stream",
     "text": [
      "Collecting playwright\n",
      "  Downloading playwright-1.52.0-py3-none-win_amd64.whl.metadata (3.5 kB)\n",
      "Collecting pyee<14,>=13 (from playwright)\n",
      "  Downloading pyee-13.0.0-py3-none-any.whl.metadata (2.9 kB)\n",
      "Collecting greenlet<4.0.0,>=3.1.1 (from playwright)\n",
      "  Downloading greenlet-3.2.2-cp312-cp312-win_amd64.whl.metadata (4.2 kB)\n",
      "Requirement already satisfied: typing-extensions in c:\\users\\legion\\appdata\\roaming\\python\\python312\\site-packages (from pyee<14,>=13->playwright) (4.12.2)\n",
      "Downloading playwright-1.52.0-py3-none-win_amd64.whl (34.8 MB)\n",
      "   ---------------------------------------- 0.0/34.8 MB ? eta -:--:--\n",
      "   ---- ----------------------------------- 3.9/34.8 MB 23.4 MB/s eta 0:00:02\n",
      "   ------------- -------------------------- 12.1/34.8 MB 31.5 MB/s eta 0:00:01\n",
      "   --------------------- ------------------ 19.1/34.8 MB 32.6 MB/s eta 0:00:01\n",
      "   ------------------------------- -------- 27.3/34.8 MB 33.9 MB/s eta 0:00:01\n",
      "   --------------------------------- ------ 29.1/34.8 MB 34.2 MB/s eta 0:00:01\n",
      "   --------------------------------- ------ 29.4/34.8 MB 25.9 MB/s eta 0:00:01\n",
      "   ---------------------------------- ----- 29.6/34.8 MB 22.9 MB/s eta 0:00:01\n",
      "   ---------------------------------- ----- 30.1/34.8 MB 18.6 MB/s eta 0:00:01\n",
      "   ----------------------------------- ---- 30.9/34.8 MB 16.9 MB/s eta 0:00:01\n",
      "   ------------------------------------- -- 32.2/34.8 MB 15.9 MB/s eta 0:00:01\n",
      "   ---------------------------------------  34.3/34.8 MB 15.1 MB/s eta 0:00:01\n",
      "   ---------------------------------------- 34.8/34.8 MB 14.8 MB/s eta 0:00:00\n",
      "Downloading greenlet-3.2.2-cp312-cp312-win_amd64.whl (296 kB)\n",
      "Downloading pyee-13.0.0-py3-none-any.whl (15 kB)\n",
      "Installing collected packages: pyee, greenlet, playwright\n",
      "  Attempting uninstall: greenlet\n",
      "    Found existing installation: greenlet 3.0.1\n",
      "    Uninstalling greenlet-3.0.1:\n",
      "      Successfully uninstalled greenlet-3.0.1\n",
      "Successfully installed greenlet-3.2.2 playwright-1.52.0 pyee-13.0.0\n"
     ]
    },
    {
     "name": "stderr",
     "output_type": "stream",
     "text": [
      "\n",
      "[notice] A new release of pip is available: 24.3.1 -> 25.1.1\n",
      "[notice] To update, run: python.exe -m pip install --upgrade pip\n"
     ]
    }
   ],
   "execution_count": 2
  },
  {
   "cell_type": "code",
   "source": [
    "# Import necessary libraries\n",
    "import asyncio\n",
    "from twscrape import API, gather\n",
    "from twscrape.logger import set_log_level\n"
   ],
   "metadata": {
    "id": "4tONHVm_gPxw",
    "ExecuteTime": {
     "end_time": "2025-05-25T23:59:14.747152Z",
     "start_time": "2025-05-25T23:59:13.909548Z"
    }
   },
   "outputs": [],
   "execution_count": 3
  },
  {
   "cell_type": "code",
   "source": [
    "# Step 2: Install Playwright browsers\n",
    "!playwright install\n",
    "!playwright install-deps"
   ],
   "metadata": {
    "colab": {
     "base_uri": "https://localhost:8080/"
    },
    "id": "cFJTVtmjhajg",
    "outputId": "1a949b3e-d4bb-4bf4-fddb-29c8d2e23711",
    "ExecuteTime": {
     "end_time": "2025-05-26T00:00:05.456336Z",
     "start_time": "2025-05-25T23:59:14.762718Z"
    }
   },
   "outputs": [
    {
     "name": "stdout",
     "output_type": "stream",
     "text": [
      "Removing unused browser at C:\\Users\\legion\\AppData\\Local\\ms-playwright\\chromium_headless_shell-1155\n",
      "Downloading Chromium 136.0.7103.25 (playwright build v1169)\u001B[2m from https://cdn.playwright.dev/dbazure/download/playwright/builds/chromium/1169/chromium-win64.zip\u001B[22m\n",
      "|                                                                                |   0% of 144.4 MiB\n",
      "|â– â– â– â– â– â– â– â–                                                                         |  10% of 144.4 MiB\n",
      "|â– â– â– â– â– â– â– â– â– â– â– â– â– â– â– â–                                                                 |  20% of 144.4 MiB\n",
      "|â– â– â– â– â– â– â– â– â– â– â– â– â– â– â– â– â– â– â– â– â– â– â– â–                                                         |  30% of 144.4 MiB\n",
      "|â– â– â– â– â– â– â– â– â– â– â– â– â– â– â– â– â– â– â– â– â– â– â– â– â– â– â– â– â– â– â– â–                                                 |  40% of 144.4 MiB\n",
      "|â– â– â– â– â– â– â– â– â– â– â– â– â– â– â– â– â– â– â– â– â– â– â– â– â– â– â– â– â– â– â– â– â– â– â– â– â– â– â– â–                                         |  50% of 144.4 MiB\n",
      "|â– â– â– â– â– â– â– â– â– â– â– â– â– â– â– â– â– â– â– â– â– â– â– â– â– â– â– â– â– â– â– â– â– â– â– â– â– â– â– â– â– â– â– â– â– â– â– â–                                 |  60% of 144.4 MiB\n",
      "|â– â– â– â– â– â– â– â– â– â– â– â– â– â– â– â– â– â– â– â– â– â– â– â– â– â– â– â– â– â– â– â– â– â– â– â– â– â– â– â– â– â– â– â– â– â– â– â– â– â– â– â– â– â– â– â–                         |  70% of 144.4 MiB\n",
      "|â– â– â– â– â– â– â– â– â– â– â– â– â– â– â– â– â– â– â– â– â– â– â– â– â– â– â– â– â– â– â– â– â– â– â– â– â– â– â– â– â– â– â– â– â– â– â– â– â– â– â– â– â– â– â– â– â– â– â– â– â– â– â– â–                 |  80% of 144.4 MiB\n",
      "|â– â– â– â– â– â– â– â– â– â– â– â– â– â– â– â– â– â– â– â– â– â– â– â– â– â– â– â– â– â– â– â– â– â– â– â– â– â– â– â– â– â– â– â– â– â– â– â– â– â– â– â– â– â– â– â– â– â– â– â– â– â– â– â– â– â– â– â– â– â– â– â–         |  90% of 144.4 MiB\n",
      "|â– â– â– â– â– â– â– â– â– â– â– â– â– â– â– â– â– â– â– â– â– â– â– â– â– â– â– â– â– â– â– â– â– â– â– â– â– â– â– â– â– â– â– â– â– â– â– â– â– â– â– â– â– â– â– â– â– â– â– â– â– â– â– â– â– â– â– â– â– â– â– â– â– â– â– â– â– â– â– â– | 100% of 144.4 MiB\n",
      "Chromium 136.0.7103.25 (playwright build v1169) downloaded to C:\\Users\\legion\\AppData\\Local\\ms-playwright\\chromium-1169\n",
      "Downloading Chromium Headless Shell 136.0.7103.25 (playwright build v1169)\u001B[2m from https://cdn.playwright.dev/dbazure/download/playwright/builds/chromium/1169/chromium-headless-shell-win64.zip\u001B[22m\n",
      "|                                                                                |   0% of 89.1 MiB\n",
      "|â– â– â– â– â– â– â– â–                                                                         |  10% of 89.1 MiB\n",
      "|â– â– â– â– â– â– â– â– â– â– â– â– â– â– â– â–                                                                 |  20% of 89.1 MiB\n",
      "|â– â– â– â– â– â– â– â– â– â– â– â– â– â– â– â– â– â– â– â– â– â– â– â–                                                         |  30% of 89.1 MiB\n",
      "|â– â– â– â– â– â– â– â– â– â– â– â– â– â– â– â– â– â– â– â– â– â– â– â– â– â– â– â– â– â– â– â–                                                 |  40% of 89.1 MiB\n",
      "|â– â– â– â– â– â– â– â– â– â– â– â– â– â– â– â– â– â– â– â– â– â– â– â– â– â– â– â– â– â– â– â– â– â– â– â– â– â– â– â–                                         |  50% of 89.1 MiB\n",
      "|â– â– â– â– â– â– â– â– â– â– â– â– â– â– â– â– â– â– â– â– â– â– â– â– â– â– â– â– â– â– â– â– â– â– â– â– â– â– â– â– â– â– â– â– â– â– â– â–                                 |  60% of 89.1 MiB\n",
      "|â– â– â– â– â– â– â– â– â– â– â– â– â– â– â– â– â– â– â– â– â– â– â– â– â– â– â– â– â– â– â– â– â– â– â– â– â– â– â– â– â– â– â– â– â– â– â– â– â– â– â– â– â– â– â– â–                         |  70% of 89.1 MiB\n",
      "|â– â– â– â– â– â– â– â– â– â– â– â– â– â– â– â– â– â– â– â– â– â– â– â– â– â– â– â– â– â– â– â– â– â– â– â– â– â– â– â– â– â– â– â– â– â– â– â– â– â– â– â– â– â– â– â– â– â– â– â– â– â– â– â–                 |  80% of 89.1 MiB\n",
      "|â– â– â– â– â– â– â– â– â– â– â– â– â– â– â– â– â– â– â– â– â– â– â– â– â– â– â– â– â– â– â– â– â– â– â– â– â– â– â– â– â– â– â– â– â– â– â– â– â– â– â– â– â– â– â– â– â– â– â– â– â– â– â– â– â– â– â– â– â– â– â– â–         |  90% of 89.1 MiB\n",
      "|â– â– â– â– â– â– â– â– â– â– â– â– â– â– â– â– â– â– â– â– â– â– â– â– â– â– â– â– â– â– â– â– â– â– â– â– â– â– â– â– â– â– â– â– â– â– â– â– â– â– â– â– â– â– â– â– â– â– â– â– â– â– â– â– â– â– â– â– â– â– â– â– â– â– â– â– â– â– â– â– | 100% of 89.1 MiB\n",
      "Chromium Headless Shell 136.0.7103.25 (playwright build v1169) downloaded to C:\\Users\\legion\\AppData\\Local\\ms-playwright\\chromium_headless_shell-1169\n",
      "Downloading Firefox 137.0 (playwright build v1482)\u001B[2m from https://cdn.playwright.dev/dbazure/download/playwright/builds/firefox/1482/firefox-win64.zip\u001B[22m\n",
      "|                                                                                |   0% of 92.1 MiB\n",
      "|â– â– â– â– â– â– â– â–                                                                         |  10% of 92.1 MiB\n",
      "|â– â– â– â– â– â– â– â– â– â– â– â– â– â– â– â–                                                                 |  20% of 92.1 MiB\n",
      "|â– â– â– â– â– â– â– â– â– â– â– â– â– â– â– â– â– â– â– â– â– â– â– â–                                                         |  30% of 92.1 MiB\n",
      "|â– â– â– â– â– â– â– â– â– â– â– â– â– â– â– â– â– â– â– â– â– â– â– â– â– â– â– â– â– â– â– â–                                                 |  40% of 92.1 MiB\n",
      "|â– â– â– â– â– â– â– â– â– â– â– â– â– â– â– â– â– â– â– â– â– â– â– â– â– â– â– â– â– â– â– â– â– â– â– â– â– â– â– â–                                         |  50% of 92.1 MiB\n",
      "|â– â– â– â– â– â– â– â– â– â– â– â– â– â– â– â– â– â– â– â– â– â– â– â– â– â– â– â– â– â– â– â– â– â– â– â– â– â– â– â– â– â– â– â– â– â– â– â–                                 |  60% of 92.1 MiB\n",
      "|â– â– â– â– â– â– â– â– â– â– â– â– â– â– â– â– â– â– â– â– â– â– â– â– â– â– â– â– â– â– â– â– â– â– â– â– â– â– â– â– â– â– â– â– â– â– â– â– â– â– â– â– â– â– â– â–                         |  70% of 92.1 MiB\n",
      "|â– â– â– â– â– â– â– â– â– â– â– â– â– â– â– â– â– â– â– â– â– â– â– â– â– â– â– â– â– â– â– â– â– â– â– â– â– â– â– â– â– â– â– â– â– â– â– â– â– â– â– â– â– â– â– â– â– â– â– â– â– â– â– â–                 |  80% of 92.1 MiB\n",
      "|â– â– â– â– â– â– â– â– â– â– â– â– â– â– â– â– â– â– â– â– â– â– â– â– â– â– â– â– â– â– â– â– â– â– â– â– â– â– â– â– â– â– â– â– â– â– â– â– â– â– â– â– â– â– â– â– â– â– â– â– â– â– â– â– â– â– â– â– â– â– â– â–         |  90% of 92.1 MiB\n",
      "|â– â– â– â– â– â– â– â– â– â– â– â– â– â– â– â– â– â– â– â– â– â– â– â– â– â– â– â– â– â– â– â– â– â– â– â– â– â– â– â– â– â– â– â– â– â– â– â– â– â– â– â– â– â– â– â– â– â– â– â– â– â– â– â– â– â– â– â– â– â– â– â– â– â– â– â– â– â– â– â– | 100% of 92.1 MiB\n",
      "Firefox 137.0 (playwright build v1482) downloaded to C:\\Users\\legion\\AppData\\Local\\ms-playwright\\firefox-1482\n",
      "Downloading Webkit 18.4 (playwright build v2158)\u001B[2m from https://cdn.playwright.dev/dbazure/download/playwright/builds/webkit/2158/webkit-win64.zip\u001B[22m\n",
      "|                                                                                |   0% of 57.1 MiB\n",
      "|â– â– â– â– â– â– â– â–                                                                         |  10% of 57.1 MiB\n",
      "|â– â– â– â– â– â– â– â– â– â– â– â– â– â– â– â–                                                                 |  20% of 57.1 MiB\n",
      "|â– â– â– â– â– â– â– â– â– â– â– â– â– â– â– â– â– â– â– â– â– â– â– â–                                                         |  30% of 57.1 MiB\n",
      "|â– â– â– â– â– â– â– â– â– â– â– â– â– â– â– â– â– â– â– â– â– â– â– â– â– â– â– â– â– â– â– â–                                                 |  40% of 57.1 MiB\n",
      "|â– â– â– â– â– â– â– â– â– â– â– â– â– â– â– â– â– â– â– â– â– â– â– â– â– â– â– â– â– â– â– â– â– â– â– â– â– â– â– â–                                         |  50% of 57.1 MiB\n",
      "|â– â– â– â– â– â– â– â– â– â– â– â– â– â– â– â– â– â– â– â– â– â– â– â– â– â– â– â– â– â– â– â– â– â– â– â– â– â– â– â– â– â– â– â– â– â– â– â–                                 |  60% of 57.1 MiB\n",
      "|â– â– â– â– â– â– â– â– â– â– â– â– â– â– â– â– â– â– â– â– â– â– â– â– â– â– â– â– â– â– â– â– â– â– â– â– â– â– â– â– â– â– â– â– â– â– â– â– â– â– â– â– â– â– â– â–                         |  70% of 57.1 MiB\n",
      "|â– â– â– â– â– â– â– â– â– â– â– â– â– â– â– â– â– â– â– â– â– â– â– â– â– â– â– â– â– â– â– â– â– â– â– â– â– â– â– â– â– â– â– â– â– â– â– â– â– â– â– â– â– â– â– â– â– â– â– â– â– â– â– â–                 |  80% of 57.1 MiB\n",
      "|â– â– â– â– â– â– â– â– â– â– â– â– â– â– â– â– â– â– â– â– â– â– â– â– â– â– â– â– â– â– â– â– â– â– â– â– â– â– â– â– â– â– â– â– â– â– â– â– â– â– â– â– â– â– â– â– â– â– â– â– â– â– â– â– â– â– â– â– â– â– â– â–         |  90% of 57.1 MiB\n",
      "|â– â– â– â– â– â– â– â– â– â– â– â– â– â– â– â– â– â– â– â– â– â– â– â– â– â– â– â– â– â– â– â– â– â– â– â– â– â– â– â– â– â– â– â– â– â– â– â– â– â– â– â– â– â– â– â– â– â– â– â– â– â– â– â– â– â– â– â– â– â– â– â– â– â– â– â– â– â– â– â– | 100% of 57.1 MiB\n",
      "Webkit 18.4 (playwright build v2158) downloaded to C:\\Users\\legion\\AppData\\Local\\ms-playwright\\webkit-2158\n"
     ]
    }
   ],
   "execution_count": 4
  },
  {
   "cell_type": "code",
   "source": [
    "\n",
    "import asyncio\n",
    "from twscrape import API, gather\n",
    "from twscrape.logger import set_log_level\n",
    "import pandas as pd"
   ],
   "metadata": {
    "id": "Iw5mj0JYhdc_",
    "ExecuteTime": {
     "end_time": "2025-05-26T00:00:07.781481Z",
     "start_time": "2025-05-26T00:00:05.467688Z"
    }
   },
   "outputs": [],
   "execution_count": 5
  },
  {
   "cell_type": "code",
   "source": [
    "\n",
    "import nest_asyncio"
   ],
   "metadata": {
    "id": "qtXJ0cHgk6xO",
    "ExecuteTime": {
     "end_time": "2025-05-26T00:00:07.799422Z",
     "start_time": "2025-05-26T00:00:07.792172Z"
    }
   },
   "outputs": [],
   "execution_count": 6
  },
  {
   "cell_type": "code",
   "source": [
    "nest_asyncio.apply()"
   ],
   "metadata": {
    "id": "BTDBzEjziMOG",
    "ExecuteTime": {
     "end_time": "2025-05-26T00:00:07.814646Z",
     "start_time": "2025-05-26T00:00:07.809604Z"
    }
   },
   "outputs": [],
   "execution_count": 7
  },
  {
   "metadata": {
    "ExecuteTime": {
     "end_time": "2025-05-26T02:10:04.268338Z",
     "start_time": "2025-05-26T01:54:26.710115Z"
    }
   },
   "cell_type": "code",
   "source": [
    "import asyncio\n",
    "import pandas as pd\n",
    "from twscrape import API, set_log_level\n",
    "\n",
    "async def main():\n",
    "    api = API()\n",
    "\n",
    "    # Your collected cookies string\n",
    "    my_account_cookies = \"guest_id=v1%3A174822062426540850; gt=1926803067812434163; guest_id_marketing=v1%3A174822062426540850; guest_id_ads=v1%3A174822062426540850; external_referer=padhuUp37zjgzgv1mFWxJ12Ozwit7owX|0|8e8t2xd8A2w%3D; personalization_id=\\\"v1_L/KjxGmoqWnHvwFdPK/lyA==\\\"; g_state={\\\"i_l\\\":0}; kdt=hfZPvXQqzExC7B66eIi8AUcFAG9Jm2ihCr2BjGW6; auth_token=42e3a4566bddea2fc850de11f0cbb0d5e4a9fc45; ct0=92ed3d43e4547153e1834051eba03774c843b87103f45ef77b5e795b3c4c6e56db20861354840b7be884e85b378e9e522f5378f8878ce27fc18d66ccf38b472daa509a9680123e65207152fee99a6757; att=1-YsnNmkYc5Fe9S7mrxLPcy9gJ7y9RURc7BlawepNe; lang=en; twid=u%3D1907185764212830208; __cf_bm=5mY35SGV8APYKXqRnLjUM7Af1MmnwmA3NHbwsTr.cA-1748223386-1.0.1.1-AIMvXE0W09QpFUJESn1f0fMb357gSnc2RLbbeEoscOobNqXqoemR86nfIiIhlyb.GidAqfAa2NMIr6F3UHrzqzfb9RmwZc51XMw.R8ebVVI\"\n",
    "\n",
    "    print(\"Attempting to add account to API pool with collected cookies...\")\n",
    "    await api.pool.add_account(\n",
    "        \"NPC1020330\",\n",
    "        \"#PiensaSmart\",\n",
    "        \"n98900088@gmail.com\",\n",
    "        \"#PiensaSmart\",\n",
    "        cookies=my_account_cookies\n",
    "    )\n",
    "    print(\"Account added (or already exists). Attempting login...\")\n",
    "\n",
    "    await api.pool.login_all()\n",
    "    print(\"Login attempt completed.\")\n",
    "\n",
    "    # --- DEBUGGING STEP: INSPECT api.pool ---\n",
    "    print(\"\\n--- Inspecting api.pool object ---\")\n",
    "    print(f\"Type of api.pool: {type(api.pool)}\")\n",
    "    print(\"Available attributes and methods on api.pool:\")\n",
    "    print(dir(api.pool))\n",
    "    print(\"--- End of api.pool inspection ---\\n\")\n",
    "    # --- END DEBUGGING STEP ---\n",
    "\n",
    "    # We are skipping the account status check for now, as it's causing the error.\n",
    "    # We will re-implement it once we know how to access accounts.\n",
    "\n",
    "    # Search for tweets\n",
    "    tweets = []\n",
    "    q = \"#AI OR #ArtificialIntelligence\"\n",
    "    print(f\"Starting tweet search for query: '{q}'...\")\n",
    "\n",
    "    try:\n",
    "        found_tweet_count = 0\n",
    "        async for tweet in api.search(q, limit=1000):\n",
    "            tweets.append({\n",
    "                \"id\": tweet.id,\n",
    "                \"date\": tweet.date,\n",
    "                \"content\": tweet.rawContent,\n",
    "                \"username\": tweet.user.username,\n",
    "                \"like_count\": tweet.likeCount,\n",
    "                \"retweet_count\": tweet.retweetCount,\n",
    "                \"hashtags\": [hashtag for hashtag in tweet.hashtags],\n",
    "            })\n",
    "            found_tweet_count += 1\n",
    "            if found_tweet_count % 50 == 0:\n",
    "                print(f\"  Collected {found_tweet_count} tweets so far...\")\n",
    "\n",
    "        if found_tweet_count == 0:\n",
    "            print(\"No tweets found matching the query after iterating.\")\n",
    "        else:\n",
    "            print(f\"Finished searching. Total tweets found: {found_tweet_count}.\")\n",
    "\n",
    "    except Exception as e:\n",
    "        print(f\"Error during tweet search: {e}\")\n",
    "\n",
    "    if tweets:\n",
    "        df = pd.DataFrame(tweets)\n",
    "        df.to_csv('tweets.csv', index=False)\n",
    "        print(f\"Tweets saved to 'tweets.csv': {len(df)} records.\")\n",
    "    else:\n",
    "        print(\"No tweets to save to 'tweets.csv'.\")\n",
    "\n",
    "if __name__ == \"__main__\":\n",
    "    set_log_level(\"DEBUG\")\n",
    "    asyncio.run(main())"
   ],
   "outputs": [
    {
     "name": "stderr",
     "output_type": "stream",
     "text": [
      "\u001B[32m2025-05-25 20:54:26.835\u001B[0m | \u001B[1mINFO    \u001B[0m | \u001B[36mtwscrape.accounts_pool\u001B[0m:\u001B[36madd_account\u001B[0m:\u001B[36m110\u001B[0m - \u001B[1mAccount NPC1020330 added successfully (active=True)\u001B[0m\n"
     ]
    },
    {
     "name": "stdout",
     "output_type": "stream",
     "text": [
      "Attempting to add account to API pool with collected cookies...\n",
      "Account added (or already exists). Attempting login...\n",
      "Login attempt completed.\n",
      "\n",
      "--- Inspecting api.pool object ---\n",
      "Type of api.pool: <class 'twscrape.accounts_pool.AccountsPool'>\n",
      "Available attributes and methods on api.pool:\n",
      "['__annotations__', '__class__', '__delattr__', '__dict__', '__dir__', '__doc__', '__eq__', '__format__', '__ge__', '__getattribute__', '__getstate__', '__gt__', '__hash__', '__init__', '__init_subclass__', '__le__', '__lt__', '__module__', '__ne__', '__new__', '__reduce__', '__reduce_ex__', '__repr__', '__setattr__', '__sizeof__', '__str__', '__subclasshook__', '__weakref__', '_db_file', '_get_and_lock', '_login_config', '_order_by', '_raise_when_no_account', 'accounts_info', 'add_account', 'delete_accounts', 'delete_inactive', 'get', 'get_account', 'get_all', 'get_for_queue', 'get_for_queue_or_wait', 'load_from_file', 'lock_until', 'login', 'login_all', 'mark_inactive', 'next_available_at', 'relogin', 'relogin_failed', 'reset_locks', 'save', 'set_active', 'stats', 'unlock']\n",
      "--- End of api.pool inspection ---\n",
      "\n",
      "Starting tweet search for query: '#AI OR #ArtificialIntelligence'...\n"
     ]
    },
    {
     "name": "stderr",
     "output_type": "stream",
     "text": [
      "\u001B[32m2025-05-25 20:54:27.827\u001B[0m | \u001B[34m\u001B[1mDEBUG   \u001B[0m | \u001B[36mtwscrape.queue_client\u001B[0m:\u001B[36mreq\u001B[0m:\u001B[36m71\u001B[0m - \u001B[34m\u001B[1mRetrying request with new x-client-transaction-id: https://x.com/i/api/graphql/AIdc203rPpK_k_2KWSdm7g/SearchTimeline\u001B[0m\n"
     ]
    },
    {
     "name": "stdout",
     "output_type": "stream",
     "text": [
      "  Collected 50 tweets so far...\n",
      "  Collected 100 tweets so far...\n",
      "  Collected 150 tweets so far...\n",
      "  Collected 200 tweets so far...\n",
      "  Collected 250 tweets so far...\n",
      "  Collected 300 tweets so far...\n",
      "  Collected 350 tweets so far...\n",
      "  Collected 400 tweets so far...\n",
      "  Collected 450 tweets so far...\n",
      "  Collected 500 tweets so far...\n"
     ]
    },
    {
     "name": "stderr",
     "output_type": "stream",
     "text": [
      "\u001B[32m2025-05-25 20:55:05.510\u001B[0m | \u001B[34m\u001B[1mDEBUG   \u001B[0m | \u001B[36mtwscrape.queue_client\u001B[0m:\u001B[36m_check_rep\u001B[0m:\u001B[36m194\u001B[0m - \u001B[34m\u001B[1mRate limited: 200 -  0/50 - NPC1020330 - OK\u001B[0m\n",
      "\u001B[32m2025-05-25 20:55:05.554\u001B[0m | \u001B[1mINFO    \u001B[0m | \u001B[36mtwscrape.accounts_pool\u001B[0m:\u001B[36mget_for_queue_or_wait\u001B[0m:\u001B[36m301\u001B[0m - \u001B[1mNo account available for queue \"SearchTimeline\". Next available at 21:09:26\u001B[0m\n",
      "\u001B[32m2025-05-25 21:09:28.235\u001B[0m | \u001B[1mINFO    \u001B[0m | \u001B[36mtwscrape.accounts_pool\u001B[0m:\u001B[36mget_for_queue_or_wait\u001B[0m:\u001B[36m308\u001B[0m - \u001B[1mContinuing with account NPC1020330 on queue SearchTimeline\u001B[0m\n"
     ]
    },
    {
     "name": "stdout",
     "output_type": "stream",
     "text": [
      "  Collected 550 tweets so far...\n",
      "  Collected 600 tweets so far...\n",
      "  Collected 650 tweets so far...\n",
      "  Collected 700 tweets so far...\n",
      "  Collected 750 tweets so far...\n",
      "  Collected 800 tweets so far...\n",
      "  Collected 850 tweets so far...\n",
      "  Collected 900 tweets so far...\n",
      "  Collected 950 tweets so far...\n",
      "  Collected 1000 tweets so far...\n",
      "  Collected 1050 tweets so far...\n",
      "Finished searching. Total tweets found: 1063.\n",
      "Tweets saved to 'tweets.csv': 1063 records.\n"
     ]
    }
   ],
   "execution_count": 36
  }
 ]
}
